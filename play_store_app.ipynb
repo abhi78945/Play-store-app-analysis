{
  "nbformat": 4,
  "nbformat_minor": 0,
  "metadata": {
    "colab": {
      "private_outputs": true,
      "provenance": [],
      "authorship_tag": "ABX9TyPKtcPnfIwA3FeBtWbV65ro",
      "include_colab_link": true
    },
    "kernelspec": {
      "name": "python3",
      "display_name": "Python 3"
    },
    "language_info": {
      "name": "python"
    }
  },
  "cells": [
    {
      "cell_type": "markdown",
      "metadata": {
        "id": "view-in-github",
        "colab_type": "text"
      },
      "source": [
        "<a href=\"https://colab.research.google.com/github/abhi78945/Play-store-app-analysis/blob/main/play_store_app.ipynb\" target=\"_parent\"><img src=\"https://colab.research.google.com/assets/colab-badge.svg\" alt=\"Open In Colab\"/></a>"
      ]
    },
    {
      "cell_type": "markdown",
      "source": [
        "#Project Name:-Play Store App Review Analysis(EDA)"
      ],
      "metadata": {
        "id": "Z5BSVyHq0hZM"
      }
    },
    {
      "cell_type": "markdown",
      "source": [
        "\n",
        "**Project Type - EDA**\n",
        "\n",
        "**Contribution - Individual**\n",
        "\n",
        "\n",
        "what is a EDA?\n",
        "\n",
        "ans:Exploratory Data Analysis (EDA) is a vital first step in any machine learning or data science project. It's a creative process that involves examining and visualizing data to identify patterns, spot anomalies, and test hypotheses.\n",
        "\n",
        "why we do Eda in project?\n",
        "Ans:Exploratory data analysis (EDA) is important in machine learning because it helps ensure that the data used for modeling is accurate and representative of the real world:\n",
        "\n",
        "**Detects outliers:** Machine learning algorithms are sensitive to the range and distribution of features, so it's important to identify and remove outliers that could affect the results.\n",
        "\n",
        "**Validates theories:** EDA helps validate theories through in-depth data analysis.\n",
        "**Identifies patterns:** EDA helps identify patterns in the data that might not be obvious.\n",
        "\n",
        "**Checks correlation:** Before building a model, it's important to check the correlation between the independent and dependent variables.\n",
        "Improves model performance: EDA helps train the algorithm so that it produces the best possible output.\n",
        "\n",
        "\n",
        "\n",
        "##**Project Summary -**\n",
        "\n",
        "The Play Store apps data has enormous potential to drive app-making businesses to success. Actionable insights can be drawn for developers to work on and capture the Android market.\n",
        "\n",
        "Each app (row) has values for catergory, rating, size, and more. Another dataset contains customer reviews of the android apps.\n",
        "\n",
        "Explore and analyze the data to discover key factors responsible for app engagement and success.\n",
        "\n",
        "In this project, I used Exploratory Data Analysis (EDA) approach to analyze the data using visual techniques and discover Trends, and Patterns, or to check assumptions with the help of statistical summaries and graphical representations.\n",
        "\n",
        "##**GitHub Link -**\n",
        "\n",
        "\n",
        "##Problem Statement:\n",
        "\n",
        "What are the top categories on Play Store?\n",
        "\n",
        "Are majority of the apps Paid or Free?\n",
        "\n",
        "How importance is the rating of the application?\n",
        "\n",
        "Which categories from the audience should the app be based on?\n",
        "\n",
        "Which category has the most no. of installations?\n",
        "\n",
        "How does the count of apps varies by Genres?\n",
        "\n",
        "How are ratings affected when the app is a paid one?\n",
        "\n",
        "How are reviews and ratings co-related?\n",
        "\n",
        "**--Lets us discuss the sentiment subjectivity.**\n",
        "\n",
        "Is subjectivity and polarity proportional to each other?\n",
        "\n",
        "What is the percentage of review sentiments?\n",
        "\n",
        "How is sentiment polarity varying for paid and free apps?\n",
        "\n",
        "How Content Rating affect over the App?.\n",
        "\n",
        "**Define Your Business Objective?**\n",
        "\n",
        "The Play Store apps data has enormous potential to drive app-making businesses to success. Actionable insights can be drawn for developers to work on and capture the Android market\n",
        "\n",
        "##General Guidelines : -\n",
        "Well-structured, formatted, and commented code is required.\n",
        "\n",
        "Exception Handling, Production Grade Code & Deployment Ready Code will be a plus. Those students will be awarded some additional credits.\n",
        "\n",
        "The additional credits will have advantages over other students during Star Student selection.\n",
        "\n",
        "   \n",
        "Each and every logic should have proper comments.\n",
        "\n",
        "You may add as many number of charts you want. Make Sure for each and every chart the following format should be answered.\n",
        "\n",
        "# Chart visualization code\n",
        "Why did you pick the specific chart?\n",
        "\n",
        "What is/are the insight(s) found from the chart?\n",
        "\n",
        "Will the gained insights help creating a positive business impact? Are there any insights that lead to negative growth? Justify with specific reason.\n",
        "\n",
        "You have to create at least 20 logical & meaningful charts having important insights.\n",
        "[ Hints : - Do the Vizualization in a structured way while following \"UBM\" Rule.\n",
        "\n",
        "U - Univariate Analysis,\n",
        "\n",
        "B - Bivariate Analysis (Numerical - Categorical, Numerical - Numerical, Categorical - Categorical)\n",
        "\n",
        "M - Multivariate Analysis ]\n",
        "\n",
        "\n",
        "\n",
        "\n",
        "\n",
        "##Let's Begin !"
      ],
      "metadata": {
        "id": "nb1iNLvSjWBn"
      }
    },
    {
      "cell_type": "code",
      "source": [
        "#import library\n",
        "from ast import increment_lineno\n",
        "import numpy as np\n",
        "import pandas as pd\n",
        "import matplotlib.pyplot as plt\n",
        "import seaborn as sns\n",
        "%matplotlib inline"
      ],
      "metadata": {
        "id": "_JqWBsVe02ZT"
      },
      "execution_count": null,
      "outputs": []
    },
    {
      "cell_type": "code",
      "source": [
        "from google.colab import drive\n",
        "drive.mount('/content/drive')"
      ],
      "metadata": {
        "id": "TJXa0Gjp1MgD"
      },
      "execution_count": null,
      "outputs": []
    },
    {
      "cell_type": "code",
      "source": [
        "#accessing/reading the dataset\n",
        "dfpath='/content/sample_data/play store/Play Store Data (1).csv'\n",
        "reviewpath='/content/sample_data/play store/User Reviews (1).csv'\n"
      ],
      "metadata": {
        "id": "kpkpqhwo2bd1"
      },
      "execution_count": null,
      "outputs": []
    },
    {
      "cell_type": "code",
      "source": [
        "playstoredf=pd.read_csv(dfpath)"
      ],
      "metadata": {
        "id": "-MP8bvP33Bs_"
      },
      "execution_count": null,
      "outputs": []
    },
    {
      "cell_type": "code",
      "source": [
        "reviewdf=pd.read_csv(reviewpath)"
      ],
      "metadata": {
        "id": "eAJcvzP13oNK"
      },
      "execution_count": null,
      "outputs": []
    },
    {
      "cell_type": "code",
      "source": [
        "playstoredf.head()"
      ],
      "metadata": {
        "id": "ynFO7RylqCq3"
      },
      "execution_count": null,
      "outputs": []
    },
    {
      "cell_type": "code",
      "source": [
        "#last five row of data\n",
        "playstoredf.tail()"
      ],
      "metadata": {
        "id": "JrDEO6vtrKRQ"
      },
      "execution_count": null,
      "outputs": []
    },
    {
      "cell_type": "code",
      "source": [
        "#unique values of installations\n",
        "playstoredf[\"Installs\"].unique()"
      ],
      "metadata": {
        "id": "g3VQoYzcraTJ"
      },
      "execution_count": null,
      "outputs": []
    },
    {
      "cell_type": "markdown",
      "source": [
        "Dataset Rows & Columns count"
      ],
      "metadata": {
        "id": "xcXCmyiCrgrc"
      }
    },
    {
      "cell_type": "code",
      "source": [
        "#shape of data\n",
        "playstoredf.shape"
      ],
      "metadata": {
        "id": "zCdC3drmrizk"
      },
      "execution_count": null,
      "outputs": []
    },
    {
      "cell_type": "markdown",
      "source": [
        "In first dataset we have a 10841 rows with 13 columns"
      ],
      "metadata": {
        "id": "SBHB0A8cryIv"
      }
    },
    {
      "cell_type": "code",
      "source": [
        "#fisrt five rows of second dataset\n",
        "reviewdf.head()"
      ],
      "metadata": {
        "id": "AeFNwiiIqRfB"
      },
      "execution_count": null,
      "outputs": []
    },
    {
      "cell_type": "code",
      "source": [
        "#last five rows of second dataset\n",
        "reviewdf.tail()"
      ],
      "metadata": {
        "id": "vKtjm-rhtGd0"
      },
      "execution_count": null,
      "outputs": []
    },
    {
      "cell_type": "code",
      "source": [
        "#shape of second dataset\n",
        "reviewdf.shape"
      ],
      "metadata": {
        "id": "EFcj_WCGtTq0"
      },
      "execution_count": null,
      "outputs": []
    },
    {
      "cell_type": "markdown",
      "source": [
        "In the second dataset, we have 64295 rows and 5 columns their is lots of null values in it"
      ],
      "metadata": {
        "id": "NIOaY4hItm9d"
      }
    },
    {
      "cell_type": "markdown",
      "source": [
        "##Dataset Information"
      ],
      "metadata": {
        "id": "w0ixcC02tx4H"
      }
    },
    {
      "cell_type": "code",
      "source": [
        "playstoredf.info()"
      ],
      "metadata": {
        "id": "dAA_260Mt1WY"
      },
      "execution_count": null,
      "outputs": []
    },
    {
      "cell_type": "code",
      "source": [
        "#rating statistics\n",
        "playstoredf.describe()"
      ],
      "metadata": {
        "id": "CQy_raTNt-Sz"
      },
      "execution_count": null,
      "outputs": []
    },
    {
      "cell_type": "markdown",
      "source": [
        "In this, we show that there are 9367 rows with values there is some row with above 5 rating"
      ],
      "metadata": {
        "id": "17CeGBVsub1y"
      }
    },
    {
      "cell_type": "code",
      "source": [
        "reviewdf.describe()"
      ],
      "metadata": {
        "id": "cLDZEcmauhUn"
      },
      "execution_count": null,
      "outputs": []
    },
    {
      "cell_type": "markdown",
      "source": [
        "Duplicate Values"
      ],
      "metadata": {
        "id": "nyBKKgnDvTn6"
      }
    },
    {
      "cell_type": "code",
      "source": [
        "playstoredf[\"App\"].value_counts()"
      ],
      "metadata": {
        "id": "_zMclvQa09kD"
      },
      "execution_count": null,
      "outputs": []
    },
    {
      "cell_type": "code",
      "source": [
        "#getting the review of the data\n",
        "playstoredf.info()"
      ],
      "metadata": {
        "id": "pA3GLHhpqwL_"
      },
      "execution_count": null,
      "outputs": []
    },
    {
      "cell_type": "code",
      "source": [
        "reviewdf.info()"
      ],
      "metadata": {
        "id": "WavqjBvxq6kP"
      },
      "execution_count": null,
      "outputs": []
    },
    {
      "cell_type": "code",
      "source": [
        "#There is one row contain some error so we drop that row\n",
        "playstoredf[playstoredf[\"Rating\"]>5]"
      ],
      "metadata": {
        "id": "PNa1SZG71qG2"
      },
      "execution_count": null,
      "outputs": []
    },
    {
      "cell_type": "code",
      "source": [
        "play_store_df=playstoredf.drop(playstoredf.index[[10472]])"
      ],
      "metadata": {
        "id": "HH0pcU1918jX"
      },
      "execution_count": null,
      "outputs": []
    },
    {
      "cell_type": "code",
      "source": [
        "play_store_df.shape"
      ],
      "metadata": {
        "id": "OW00QgRJ2TUO"
      },
      "execution_count": null,
      "outputs": []
    },
    {
      "cell_type": "code",
      "source": [
        "play_store_df.describe()"
      ],
      "metadata": {
        "id": "Znyx_SvM2aXO"
      },
      "execution_count": null,
      "outputs": []
    },
    {
      "cell_type": "code",
      "source": [
        "#list of columns\n",
        "print(list(play_store_df.columns))"
      ],
      "metadata": {
        "id": "FsbraqXU2j9p"
      },
      "execution_count": null,
      "outputs": []
    },
    {
      "cell_type": "code",
      "source": [
        "#info of dataset\n",
        "play_store_df.info()"
      ],
      "metadata": {
        "id": "ckvoak6HxWgN"
      },
      "execution_count": null,
      "outputs": []
    },
    {
      "cell_type": "markdown",
      "source": [
        "What did you know about your dataset?"
      ],
      "metadata": {
        "id": "wHrVuAza3EjE"
      }
    },
    {
      "cell_type": "markdown",
      "source": [
        "By diagnosing the data frame, we know that:\n",
        "\n",
        "-There are 13 columns of properties with 10841 rows of data.\n",
        "\n",
        "-Column 'Reviews', 'Size', 'Installs' and 'Price' are in the type of 'object'\n",
        "\n",
        "-Values of column 'Size' are strings representing size in 'M' as Megabytes, 'k' as kilobytes and also 'Varies with devices'.\n",
        "\n",
        "-Values of column 'Installs' are strings representing install amount with symbols such as ',' and '+'.\n",
        "\n",
        "-Values of column 'Price' are strings representing price with symbol '$'."
      ],
      "metadata": {
        "id": "PlvNsRkr3G_w"
      }
    },
    {
      "cell_type": "markdown",
      "source": [
        "##Data cleaning"
      ],
      "metadata": {
        "id": "69bkmtOz3QwU"
      }
    },
    {
      "cell_type": "code",
      "source": [
        "# convert reviews type as integer type\n",
        "play_store_df = play_store_df.astype({\"Reviews\": int})"
      ],
      "metadata": {
        "id": "XrUJmkuZ3xHK"
      },
      "execution_count": null,
      "outputs": []
    },
    {
      "cell_type": "code",
      "source": [
        "#drop $ sign from price column\n",
        "play_store_df['Price'] = play_store_df['Price'].str.replace('$','')"
      ],
      "metadata": {
        "id": "qjr57uyo34JN"
      },
      "execution_count": null,
      "outputs": []
    },
    {
      "cell_type": "code",
      "source": [
        "#convert price column type as float\n",
        "play_store_df = play_store_df.astype({\"Price\": float})"
      ],
      "metadata": {
        "id": "K9u0uQBU4PAd"
      },
      "execution_count": null,
      "outputs": []
    },
    {
      "cell_type": "code",
      "source": [
        "#in installs column we replace some sign and convert it into integer data type\n",
        "play_store_df['Installs'] = play_store_df['Installs'].str.replace(',','')\n",
        "play_store_df['Installs'] = play_store_df['Installs'].str.replace('+','')\n",
        "play_store_df = play_store_df.astype({\"Installs\": int})"
      ],
      "metadata": {
        "id": "5diuPOfm4TP4"
      },
      "execution_count": null,
      "outputs": []
    },
    {
      "cell_type": "code",
      "source": [
        "#In size column apps size in mb and kb\n",
        "play_store_df[\"Size\"].unique()"
      ],
      "metadata": {
        "id": "VcmocX7D4d-A"
      },
      "execution_count": null,
      "outputs": []
    },
    {
      "cell_type": "markdown",
      "source": [
        "**Observation:**\n",
        "\n",
        "We have to convert the column Size to int datatype.\n",
        "But the data has suffixes k and M.\n",
        "Replace k and M with their values to convert them to numeric.\n",
        "Also, deal with 'Varies with device'."
      ],
      "metadata": {
        "id": "pRbMpR7C50nz"
      }
    },
    {
      "cell_type": "code",
      "source": [
        "#convert all apps size in mb data and drop some sign for coverting it into float data type\n",
        "play_store_df['Size'] = play_store_df['Size'].apply(lambda x: str(x).replace('Varies with device', '20') if 'Varies with device' in str(x) else x)\n",
        "play_store_df['Size'] = play_store_df['Size'].apply(lambda x: str(x).replace('M', '') if 'M' in str(x) else x)\n",
        "play_store_df['Size'] = play_store_df['Size'].apply(lambda x: str(x).replace(',', '') if 'M' in str(x) else x)\n",
        "play_store_df['Size'] = play_store_df['Size'].apply(lambda x: float(str(x).replace('k', '')) / 1000 if 'k' in str(x) else x)\n",
        "play_store_df['Size'] = play_store_df['Size'].apply(lambda x: float(x))"
      ],
      "metadata": {
        "id": "Z6R7x2nU4woS"
      },
      "execution_count": null,
      "outputs": []
    },
    {
      "cell_type": "markdown",
      "source": [
        "Since, size of the applications present in the datset are in MB and KB. Therefore, for ease in data processing, entire size column is converted to MB."
      ],
      "metadata": {
        "id": "wr7fzlZh40bp"
      }
    },
    {
      "cell_type": "code",
      "source": [
        "#After converted\n",
        "play_store_df[\"Size\"].unique()"
      ],
      "metadata": {
        "id": "yWXRldLd49Tx"
      },
      "execution_count": null,
      "outputs": []
    },
    {
      "cell_type": "code",
      "source": [
        "#data info after cleaning\n",
        "play_store_df.info()"
      ],
      "metadata": {
        "id": "NgYlYTM55O4S"
      },
      "execution_count": null,
      "outputs": []
    },
    {
      "cell_type": "markdown",
      "source": [
        "After changing the data type, now we have some columns in float and int types."
      ],
      "metadata": {
        "id": "b3-_nEfx8Qpt"
      }
    },
    {
      "cell_type": "code",
      "source": [
        "play_store_df.tail()"
      ],
      "metadata": {
        "id": "VNeqrg5k8XA0"
      },
      "execution_count": null,
      "outputs": []
    },
    {
      "cell_type": "code",
      "source": [
        "#unique apps\n",
        "df_df=play_store_df[\"App\"].nunique()\n",
        "df_df"
      ],
      "metadata": {
        "id": "gZX6djlJ8naI"
      },
      "execution_count": null,
      "outputs": []
    },
    {
      "cell_type": "code",
      "source": [
        "#drop the duplicate apps\n",
        "right_df=play_store_df.drop_duplicates(subset='App')\n",
        "right_df.head()"
      ],
      "metadata": {
        "id": "7632kayl8wk-"
      },
      "execution_count": null,
      "outputs": []
    },
    {
      "cell_type": "code",
      "source": [
        "#null values in rating-1463\n",
        "right_df.isnull().sum()"
      ],
      "metadata": {
        "id": "bE-j3M6H85gB"
      },
      "execution_count": null,
      "outputs": []
    },
    {
      "cell_type": "markdown",
      "source": [
        "Here, we realized that there are 1463 rows having null values under column 'Rating'. Hence, we decided to replace the null values with mean of overall 'Rating' values."
      ],
      "metadata": {
        "id": "17nfHO0K9FZi"
      }
    },
    {
      "cell_type": "code",
      "source": [
        "#replace the null value\n",
        "right_df.Rating.fillna(4.19, inplace=True)"
      ],
      "metadata": {
        "id": "xIlfxpZk9Kus"
      },
      "execution_count": null,
      "outputs": []
    },
    {
      "cell_type": "code",
      "source": [
        "#After cleaning\n",
        "right_df.isnull().sum()"
      ],
      "metadata": {
        "id": "xdHPeJPD9UlO"
      },
      "execution_count": null,
      "outputs": []
    },
    {
      "cell_type": "markdown",
      "source": [
        "Afer the cleaning process now we have a right data set"
      ],
      "metadata": {
        "id": "TzSIt0E5sRyJ"
      }
    },
    {
      "cell_type": "markdown",
      "source": [
        "##2. Understanding Your Variables"
      ],
      "metadata": {
        "id": "Voni5zK9-O09"
      }
    },
    {
      "cell_type": "code",
      "source": [
        "#some values count\n",
        "right_df.describe()"
      ],
      "metadata": {
        "id": "DSo7FKnf-U1G"
      },
      "execution_count": null,
      "outputs": []
    },
    {
      "cell_type": "code",
      "source": [
        "#list of category\n",
        "number_of_category=right_df[\"Category\"].unique()\n",
        "print(number_of_category)"
      ],
      "metadata": {
        "id": "TQ-pHrTK-e-l"
      },
      "execution_count": null,
      "outputs": []
    },
    {
      "cell_type": "code",
      "source": [
        "right_df.tail()"
      ],
      "metadata": {
        "id": "PJGYt9gC-vmC"
      },
      "execution_count": null,
      "outputs": []
    },
    {
      "cell_type": "markdown",
      "source": [
        "**Variables Description**"
      ],
      "metadata": {
        "id": "iP5AvHxr-7OV"
      }
    },
    {
      "cell_type": "markdown",
      "source": [
        "**Dataset-1**\n",
        "\n",
        "**App:** It contains the name of the app with a short description (optional).\n",
        "\n",
        "**Category:** This section gives the category to which an app belongs. In this\n",
        "\n",
        "dataset, the apps are divided among 33 categories.\n",
        "\n",
        "**Size:** The disk space required to install the respective app.\n",
        "\n",
        "**Rating:** The average rating given by the users for the respective app. It can be in between 1 and 5.\n",
        "\n",
        "**Reviews:** The number of users that have dropped a review for the respective app.\n",
        "\n",
        "**Installs:** The approximate number of times the respective app was installed.\n",
        "\n",
        "**Type:** It states whether an app is free to use or paid.\n",
        "\n",
        "**Price:** It gives the price payable to install the app. For free type apps, the price is zero.\n",
        "\n",
        "**Content rating:** It states which age group is suitable to consume the content of the respective app.\n",
        "\n",
        "**Genres:** It gives the genre(s) to which the respective app belongs.\n",
        "\n",
        "**Last updated:** It gives the day in which the latest update for the respective app was released.\n",
        "\n",
        "**Current Ver:** It gives the current version of the respective app.\n",
        "\n",
        "**Android Ver:** It gives the android version of the respective app.\n",
        "\n",
        "**Dataset-2**\n",
        "\n",
        "**App:** It contains the name of the app with a short description (optional).\n",
        "\n",
        "**Translated_Review:** It contains the English translation of the review dropped by the user of the app.\n",
        "\n",
        "**Sentiment:** It gives the attitude/emotion of the writer. It can be ‘Positive’, ‘Negative’, or ‘Neutral’.\n",
        "\n",
        "**Sentiment_Polarity:** It gives the polarity of the review. Its range is [-1,1], where 1 means ‘Positive statement’ and -1 means a ‘Negative statement’.\n",
        "\n",
        "**Sentiment_Subjectivity:** This value gives how close a reviewer’s opinion is to the opinion of the general public. Its range is [0,1]. Higher the subjectivity, closer is the reviewer’s opinion to the opinion of the general public, and lower subjectivity indicates the review is more of a factual information."
      ],
      "metadata": {
        "id": "i-TTBPto_Io7"
      }
    },
    {
      "cell_type": "markdown",
      "source": [
        "Check Unique Values for each variable."
      ],
      "metadata": {
        "id": "183H5N76AkDp"
      }
    },
    {
      "cell_type": "code",
      "source": [
        "right_df[\"App\"].nunique()"
      ],
      "metadata": {
        "id": "Hah1by-s-54t"
      },
      "execution_count": null,
      "outputs": []
    },
    {
      "cell_type": "code",
      "source": [
        "right_df[\"Category\"].nunique()"
      ],
      "metadata": {
        "id": "G7ZSbw5oA0zF"
      },
      "execution_count": null,
      "outputs": []
    },
    {
      "cell_type": "code",
      "source": [
        "right_df[\"Type\"].nunique()"
      ],
      "metadata": {
        "id": "88fqcY9MA9Zn"
      },
      "execution_count": null,
      "outputs": []
    },
    {
      "cell_type": "code",
      "source": [
        "right_df[\"Price\"].nunique()"
      ],
      "metadata": {
        "id": "JSMfOPOwBqxI"
      },
      "execution_count": null,
      "outputs": []
    },
    {
      "cell_type": "code",
      "source": [
        "right_df[\"Price\"].max()"
      ],
      "metadata": {
        "id": "Zq-JMY0JBzA-"
      },
      "execution_count": null,
      "outputs": []
    },
    {
      "cell_type": "code",
      "source": [
        "right_df[\"Genres\"].nunique()"
      ],
      "metadata": {
        "id": "yhEmaHKRCEoW"
      },
      "execution_count": null,
      "outputs": []
    },
    {
      "cell_type": "markdown",
      "source": [
        "##3. Data Wrangling"
      ],
      "metadata": {
        "id": "io5Cmn6JCKrn"
      }
    },
    {
      "cell_type": "code",
      "source": [
        "#data based on rating vs price\n",
        "price_df=right_df[[\"App\",\"Price\",\"Type\",\"Rating\",\"Size\"]]\n",
        "price_df.head()"
      ],
      "metadata": {
        "id": "B-fEmi34CQ0E"
      },
      "execution_count": null,
      "outputs": []
    },
    {
      "cell_type": "code",
      "source": [
        "#apps content rating\n",
        "grouped = right_df[['App','Content Rating']]\n",
        "grouped"
      ],
      "metadata": {
        "id": "elwJ_HAaCawq"
      },
      "execution_count": null,
      "outputs": []
    },
    {
      "cell_type": "code",
      "source": [
        "#apps age group\n",
        "age_grouped= grouped.rename(columns={'Content Rating': 'age_group'})\n",
        "age_grouped"
      ],
      "metadata": {
        "id": "IOKVjb5zDFRG"
      },
      "execution_count": null,
      "outputs": []
    },
    {
      "cell_type": "code",
      "source": [
        "#android version of apps\n",
        "versions=right_df[\"Android Ver\"].value_counts().reset_index()\n",
        "versions = versions.rename(columns={'index':'Android Ver','Android Ver': 'count'})\n",
        "versions"
      ],
      "metadata": {
        "id": "ICNHW1joDghQ"
      },
      "execution_count": null,
      "outputs": []
    },
    {
      "cell_type": "code",
      "source": [
        "#total apps based on category\n",
        "df=right_df.groupby('Category')['App'].nunique().reset_index(name=\"Total Apps\")\n",
        "df=df.sort_values(by=['Total Apps'],ascending=False)\n",
        "df"
      ],
      "metadata": {
        "id": "tHu8wqDyD7EL"
      },
      "execution_count": null,
      "outputs": []
    },
    {
      "cell_type": "markdown",
      "source": [
        "##4. Data Vizualization, Storytelling & Experimenting with charts : Understand the relationships between variables"
      ],
      "metadata": {
        "id": "S118ICW_EJ_z"
      }
    },
    {
      "cell_type": "code",
      "source": [
        "#pie chart on price of apps\n",
        "plt.figure(figsize=(8,6))\n",
        "plt.title(\"Apps on price\",fontsize = 16)\n",
        "plt.pie(price_df.Type.value_counts(), labels=price_df.Type.value_counts().index,autopct='%1.1f%%',startangle=90,explode=(0, 0.1))\n",
        "plt.show()"
      ],
      "metadata": {
        "id": "o_1naJDjEQjE"
      },
      "execution_count": null,
      "outputs": []
    },
    {
      "cell_type": "markdown",
      "source": [
        "**1. Why did you pick the specific chart?**\n",
        "\n",
        "Pie charts show the parts-to-whole relationship\n",
        "\n",
        "Pie charts are often used in business. Examples include showing percentages of types of customers, percentage of revenue from different products, and profits from different countries.\n",
        "\n",
        "**2. What is/are the insight(s) found from the chart?**\n",
        "\n",
        "From the plot we can imply that majority of the apps in the Play Store are Free apps.\n",
        "\n",
        "**3. Will the gained insights help creating a positive business impact?\n",
        "Are there any insights that lead to negative growth? Justify with specific reason.**\n",
        "\n",
        "From the above pie chart, we can draw insight that most of the apps are free (approx 92%) and paid apps (approx 7%) Listing. It may lead to fewer installations of paid apps.\n",
        "\n",
        "##Chart - 2 pie chart"
      ],
      "metadata": {
        "id": "T4h44C60Ef61"
      }
    },
    {
      "cell_type": "code",
      "source": [
        "#age group on apps\n",
        "plt.figure(figsize=(10,6))\n",
        "plt.title(\"Apps per age group\",fontsize = 16)\n",
        "plt.pie(age_grouped.age_group.value_counts(), labels=age_grouped.age_group.value_counts().index,autopct='%1.1f%%',startangle=180,explode=(0.1, 0,0,0,1,2.5))\n",
        "plt.show()"
      ],
      "metadata": {
        "id": "z260diNHEEzP"
      },
      "execution_count": null,
      "outputs": []
    },
    {
      "cell_type": "markdown",
      "source": [
        "**1. Why did you pick the specific chart?**\n",
        "\n",
        "Pie charts show the parts-to-whole relationship\n",
        "\n",
        "So here we display the percentage of Apps with different age group restrictions\n",
        "\n",
        "**2. What is/are the insight(s) found from the chart?**\n",
        "\n",
        "From the above plot, we can see that the Everyone category has the highest number of apps.\n",
        "\n",
        "**3. Will the gained insights help creating a positive business impact?Are there any insights that lead to negative growth? Justify with specific reason.**\n",
        "\n",
        "From the above piechart we can show that most of the apps are no age restriction mins they will gain more users, restricted apps are fewer users base\n",
        "\n",
        "##Chart - 3 Bar plot"
      ],
      "metadata": {
        "id": "yY8irxZ0Fj7o"
      }
    },
    {
      "cell_type": "code",
      "source": [
        "#top apps by category\n",
        "category=df.sort_values(by='Total Apps', ascending=False)\n",
        "top_five_category=category.head()\n",
        "least_five_category=category.tail()"
      ],
      "metadata": {
        "id": "Fxxy45Er5Unv"
      },
      "execution_count": null,
      "outputs": []
    },
    {
      "cell_type": "code",
      "source": [
        "#top category\n",
        "top_five_category.reset_index()"
      ],
      "metadata": {
        "id": "GVI4l1r55b3l"
      },
      "execution_count": null,
      "outputs": []
    },
    {
      "cell_type": "code",
      "source": [
        "#bar graph of top five category\n",
        "fig = plt.figure(figsize = (7, 5))\n",
        "sns.barplot(data=top_five_category, x=\"Category\", y=\"Total Apps\")\n",
        "plt.title(\"Top five Category of listed apps\",fontsize=16)\n",
        "plt.xlabel(\"Category\",fontsize=16)\n",
        "plt.ylabel(\"Total Apps\",fontsize=16)\n",
        "plt.show()"
      ],
      "metadata": {
        "id": "rNDPHjcZ5kem"
      },
      "execution_count": null,
      "outputs": []
    },
    {
      "cell_type": "markdown",
      "source": [
        "Top Five categories on play store where most of the apps are listed.\n",
        "\n",
        "1-Family\n",
        "\n",
        "2-Game\n",
        "\n",
        "3-Tools\n",
        "\n",
        "4-Business\n",
        "\n",
        "5-Medical"
      ],
      "metadata": {
        "id": "hOkdfBhe6UcX"
      }
    },
    {
      "cell_type": "markdown",
      "source": [
        "##Chart - Bar plot"
      ],
      "metadata": {
        "id": "uXeHQmEz6l56"
      }
    },
    {
      "cell_type": "code",
      "source": [
        "#least five category\n",
        "least_five_category.reset_index()"
      ],
      "metadata": {
        "id": "DKhYZFDU62ju"
      },
      "execution_count": null,
      "outputs": []
    },
    {
      "cell_type": "code",
      "source": [
        "#bar graph on least category\n",
        "fig = plt.figure(figsize = (7, 5))\n",
        "sns.barplot(data=least_five_category, x=\"Category\", y=\"Total Apps\")\n",
        "plt.title(\"Least five Category of listed apps\",fontsize=16)\n",
        "plt.xlabel(\"Category\",fontsize=16)\n",
        "plt.ylabel(\"Total Apps\",fontsize=16)\n",
        "plt.show()"
      ],
      "metadata": {
        "id": "-epMiPZT696T"
      },
      "execution_count": null,
      "outputs": []
    },
    {
      "cell_type": "markdown",
      "source": [
        "Least five categories were apps are least listed.\n",
        "\n",
        "1-Beauty\n",
        "\n",
        "2-Comics\n",
        "\n",
        "3-Parenting\n",
        "\n",
        "4-Art&Design\n",
        "\n",
        "5-Events"
      ],
      "metadata": {
        "id": "562Za1Fu7IIf"
      }
    },
    {
      "cell_type": "markdown",
      "source": [
        "##Chart - 7 Bar plot"
      ],
      "metadata": {
        "id": "4UOJ2P4X7p_e"
      }
    },
    {
      "cell_type": "code",
      "source": [
        "#number of istalls based on category\n",
        "categories= right_df.groupby('Category')[\"Installs\"].sum().reset_index()\n",
        "category_installs_sum_df=categories.sort_values(by='Installs', ascending=False)\n",
        "category_installs_sum_df"
      ],
      "metadata": {
        "id": "E0VA_3CO7LA3"
      },
      "execution_count": null,
      "outputs": []
    },
    {
      "cell_type": "code",
      "source": [
        "#bar graph on category vice installetions\n",
        "plt.figure(figsize=(20, 6))\n",
        "sns.barplot(x='Category', y='Installs', data=category_installs_sum_df)\n",
        "plt.xticks(rotation=90)\n",
        "plt.xlabel(\"Category\",fontsize=16)\n",
        "plt.ylabel('Installs (e+10)',fontsize=16)\n",
        "plt.title('Number of Installs For Each Category',fontsize=16)\n",
        "plt.show()"
      ],
      "metadata": {
        "id": "bB02dpRM9BKx"
      },
      "execution_count": null,
      "outputs": []
    },
    {
      "cell_type": "markdown",
      "source": [
        "**1. Why did you pick the specific chart?**\n",
        "\n",
        "Bar charts used when we are showing segments of information.\n",
        "\n",
        "**2. What is/are the insight(s) found from the chart?**\n",
        "\n",
        "From this distribution plotting of number of installs for each category, we can see that most of the apps being downloaded and installed are from the categories of 'Game' and 'Communication'.\n",
        "\n",
        "From the above two plots we can conclude that, maximum number of apps present in google play store comes under Family, Games and Tools Category but as per the installations and requirements in the market place, this is not the case. Maximum installed apps comes under Games, Communication and Tools.\n",
        "\n",
        "**3. Will the gained insights help creating a positive business impact?\n",
        "Are there any insights that lead to negative growth? Justify with specific reason.**\n",
        "\n",
        "From the above visualization, we can say that it is profitable to list a game on the play store but in the category like event and beauty it may lead a negative growth of business and apps.\n",
        "\n",
        "##Chart - 8 Box Plot"
      ],
      "metadata": {
        "id": "cYlHH_rO9S3W"
      }
    },
    {
      "cell_type": "code",
      "source": [
        "#data frame df1\n",
        "df1 =right_df[[\"App\",\"Category\",\"Rating\",\"Reviews\",\"Installs\",\"Price\",\"Type\",\"Genres\",\"Content Rating\",\"Size\"]]\n",
        "df1"
      ],
      "metadata": {
        "id": "a7_8J8dS--Xf"
      },
      "execution_count": null,
      "outputs": []
    },
    {
      "cell_type": "code",
      "source": [
        "#box plot on average rating\n",
        "plt.figure(figsize=(15,8))\n",
        "plt.title(\"Average rating on Category\",fontsize=16)\n",
        "sns.boxplot(y=\"Category\",x ='Rating',data =df1)\n",
        "plt.xlabel(\"Rating\",fontsize=16)\n",
        "plt.ylabel(\"Category\",fontsize=16)\n",
        "plt.show()"
      ],
      "metadata": {
        "id": "erUFCboC_qwR"
      },
      "execution_count": null,
      "outputs": []
    },
    {
      "cell_type": "markdown",
      "source": [
        "**1. Why did you pick the specific chart?**\n",
        "\n",
        "A Box Plot is also known as Whisker plot is created to display the summary of the set of data values having properties like minimum, first quartile, median, third quartile and maximum.\n",
        "\n",
        "**2. What is/are the insight(s) found from the chart?**\n",
        "\n",
        "From this distribution plotting, it implies that most of the apps in the Play Store are having rating higher than 4 or in the range of 4 to 4.5.\n",
        "\n",
        "**3. Will the gained insights help creating a positive business impact?Are there any insights that lead to negative growth? Justify with specific reason.**\n",
        "\n",
        "From the box plot, we insight that most of the apps have ratings between 4 - 4.5. The maximum and minimum rating categories are parenting and video players respectively.\n",
        "\n",
        "##Chart - 9 Histogram"
      ],
      "metadata": {
        "id": "BxGKkeLG_-LI"
      }
    },
    {
      "cell_type": "code",
      "source": [
        "#histogram on size\n",
        "plt.figure(figsize=(10, 6))\n",
        "plt.hist(df1['Size'],color = \"skyblue\")\n",
        "plt.xlabel(\"Size\",fontsize=16)\n",
        "plt.title(\"Distribution of Size\",fontsize=16)\n",
        "plt.ylabel(\"Number of apps\",fontsize=16)\n",
        "plt.show()"
      ],
      "metadata": {
        "id": "64tomdXrApKQ"
      },
      "execution_count": null,
      "outputs": []
    },
    {
      "cell_type": "markdown",
      "source": [
        "**1. Why did you pick the specific chart?**\n",
        "\n",
        "A histogram is basically used to represent data provided in a form of some groups.It is accurate method for the graphical representation of numerical data distribution\n",
        "\n",
        "**2. What is/are the insight(s) found from the chart?**\n",
        "\n",
        "Most of the app's size between 1 to 20Mb mins most of the apps are small in size\n",
        "\n",
        "**3. Will the gained insights help creating a positive business impact?Are there any insights that lead to negative growth? Justify with specific reason.**\n",
        "\n",
        "From the histogram, we can say that most of the apps are small in size between 1 Mb to 20 Mb. we can insight that if the app size is beyond this range so maybe it leads to fewer installations.\n",
        "\n",
        "##Chart - 10 Scatterplot"
      ],
      "metadata": {
        "id": "WzdNiZHbA3M1"
      }
    },
    {
      "cell_type": "code",
      "source": [
        "#scaterplot on apps rating based on price\n",
        "plt.figure(figsize=(12, 6))\n",
        "sns.scatterplot(data=price_df,x=price_df['Size'],y=price_df['Rating'],hue=price_df['Type'],s=50)\n",
        "plt.xlabel(\"Size\",fontsize=16)\n",
        "plt.ylabel(\"Rating\",fontsize=16)\n",
        "plt.title(\"Apps rating ,size and type\",fontsize=16)\n",
        "plt.show()"
      ],
      "metadata": {
        "id": "UMYRI9i2BYbf"
      },
      "execution_count": null,
      "outputs": []
    },
    {
      "cell_type": "markdown",
      "source": [
        "**1. Why did you pick the specific chart?**\n",
        "\n",
        "Scatter plots are used to plot data points on horizontal and vertical axis in the attempt to show how much one variable is affected by another.\n",
        "\n",
        "**2. What is/are the insight(s) found from the chart?**\n",
        "\n",
        "From this scatter plot, we can imply that majority of the free apps are small in size and having high rating. While for paid apps, we have quite equal distribution in term on size and rating.\n",
        "\n",
        "**3. Will the gained insights help creating a positive business impact?Are there any insights that lead to negative growth? Justify with specific reason.**\n",
        "\n",
        "From this scatter plot, we can imply that the majority of the apps are free and small in size with a high rating. While for paid apps, we have quite equal distribution in terms of size and rating it mins if the apps are small in size it may lead to high installations and reviews.\n",
        "\n",
        "##Chart - 11 Line Chart"
      ],
      "metadata": {
        "id": "wfQnyauuCH9w"
      }
    },
    {
      "cell_type": "code",
      "source": [
        "#dataset on rating, reviews,installs,size and price\n",
        "df2=df1[[\"Rating\",\"Reviews\",\"Installs\",\"Size\",\"Price\"]]\n",
        "df2"
      ],
      "metadata": {
        "id": "wGI13R5MC6r4"
      },
      "execution_count": null,
      "outputs": []
    },
    {
      "cell_type": "code",
      "source": [
        "#df2 information\n",
        "df2.info()"
      ],
      "metadata": {
        "id": "bGHwQ6F1CGuK"
      },
      "execution_count": null,
      "outputs": []
    },
    {
      "cell_type": "code",
      "source": [
        "#apps based on rating,reviews,installs,size and price\n",
        "rating_df = df2.groupby('Rating').sum().reset_index()\n",
        "rating_df"
      ],
      "metadata": {
        "id": "Plnkc1v7E_ct"
      },
      "execution_count": null,
      "outputs": []
    },
    {
      "cell_type": "code",
      "source": [
        "#graph on size,rating,review etc\n",
        "fig, axes = plt.subplots(1, 4, figsize=(15, 4))\n",
        "\n",
        "axes[0].plot(rating_df['Rating'], rating_df['Reviews'], 'r')\n",
        "axes[0].set_xlabel('Rating')\n",
        "axes[0].set_ylabel('Reviews')\n",
        "axes[0].set_title('Reviews Per Rating',fontsize=16)\n",
        "\n",
        "axes[1].plot(rating_df['Rating'], rating_df['Size'], 'g')\n",
        "axes[1].set_xlabel('Rating')\n",
        "axes[1].set_ylabel('Size')\n",
        "axes[1].set_title('Size Per Rating',fontsize=16)\n",
        "\n",
        "axes[2].plot(rating_df['Rating'], rating_df['Installs'], 'y')\n",
        "axes[2].set_xlabel('Rating')\n",
        "axes[2].set_ylabel('Installs (e+10)')\n",
        "axes[2].set_title('Installs Per Rating',fontsize=16)\n",
        "\n",
        "axes[3].plot(rating_df['Rating'], rating_df['Price'], 'm')\n",
        "axes[3].set_xlabel('Rating')\n",
        "axes[3].set_ylabel('Price')\n",
        "axes[3].set_title('Price Per Rating',fontsize=16)\n",
        "\n",
        "plt.tight_layout(pad=2)\n",
        "plt.show()"
      ],
      "metadata": {
        "id": "TOkMY1sbFSfB"
      },
      "execution_count": null,
      "outputs": []
    },
    {
      "cell_type": "markdown",
      "source": [
        "**1. Why did you pick the specific chart?**\n",
        "\n",
        "A line chart displays the evolution of one or several numeric variables\n",
        "\n",
        "**2. What is/are the insight(s) found from the chart?**\n",
        "\n",
        "From the above plottings, we can imply that most of the apps with higher rating range of 4.0 - 4.7 are having high amount of reviews, size, and installs. In terms of price, it doesn't reflect a direct relationship with rating, as we could see a fluctuation in term of pricing even at the range of high rating.\n",
        "\n",
        "**3. Will the gained insights help creating a positive business impact?Are there any insights that lead to negative growth? Justify with specific reason.**\n",
        "\n",
        "From the above plottings, we can imply that most of the apps with a higher rating range of 4.0 - 4.7 are having a high amount of reviews, sizes, and installs. In terms of price, it doesn't reflect a direct relationship with rating, as we could see a fluctuation in terms of pricing even at the range of high rating. From these conclusions, we draw an insight that the popularity of apps or ratings of apps is strongly correlated with the number of reviews, the size of the app, and the number of installs.\n",
        "\n",
        "##Chart-12 Heat map"
      ],
      "metadata": {
        "id": "TmB72yBjGc8s"
      }
    },
    {
      "cell_type": "code",
      "source": [
        "fig, axes = plt.subplots(figsize=(8, 8))\n",
        "plt.title(\"co-relations of variables using a heatmap\", fontsize=16)\n",
        "sns.heatmap(rating_df.corr(), ax=axes, annot=True, linewidths=0.1, fmt='.2f', square=True)\n",
        "plt.show()"
      ],
      "metadata": {
        "id": "5Ab-o9e0HmOh"
      },
      "execution_count": null,
      "outputs": []
    },
    {
      "cell_type": "markdown",
      "source": [
        "**1. Why did you pick the specific chart?**\n",
        "\n",
        "Because it makes patterns easily readable and highlights the differences and variations in the same data.\n",
        "\n",
        "**2. What is/are the insight(s) found from the chart?**\n",
        "\n",
        "From our heatmap, we can visualize the correlation of the variables. some visualizations from the map are -\n",
        "\n",
        "1-The correlation between reviews and price is very low\n",
        "\n",
        "2-The correlation between reviews and installation is very high\n",
        "\n",
        "3- The moderate correlation variables are price vs rating, rating vs installation\n",
        "\n",
        "4-The very low correlation between price, reviews, and installs.\n",
        "\n",
        "**3. Will the gained insights help creating a positive business impact?Are there any insights that lead to negative growth? Justify with specific reason.**\n",
        "\n",
        "From the above heatmap, we can say that the correlation between Installation, size, and reviews of the apps gain a positive impact on business, and the relation between price, Installation, and Reviews has a negative or less positive impact on business.\n",
        "\n",
        "##Chart - 13 - Pair Plot"
      ],
      "metadata": {
        "id": "Kw6tAV7IIVkx"
      }
    },
    {
      "cell_type": "code",
      "source": [
        "g=sns.pairplot(rating_df)\n",
        "g.fig.suptitle(\"Distribution and relation of data \", y=1.00,fontsize=16)\n",
        "plt.show()"
      ],
      "metadata": {
        "id": "aTkzwWhnI2et"
      },
      "execution_count": null,
      "outputs": []
    },
    {
      "cell_type": "markdown",
      "source": [
        "**1. Why did you pick the specific chart?**\n",
        "\n",
        "Because Pair plot is used to understand the best set of features to explain a relationship between two variables or to form the most separated clusters. It also helps to form some simple classification models by drawing some simple lines or make linear separation in our data-set.\n",
        "\n",
        "**2. What is/are the insight(s) found from the chart?**\n",
        "\n",
        "Relation between reviews and price is very low\n",
        "\n",
        "Relation between reviews and installation is very high\n",
        "\n",
        "Moderate relation variables are price vs rating, rating vs installation\n",
        "\n",
        "very low relation between price, reviews, and installs.\n",
        "\n",
        "**3. Will the gained insights help creating a positive business impact?Are there any insights that lead to negative growth? Justify with specific reason.**\n",
        "\n",
        "Relation between Installation, size, and reviews of the apps gain a positive impact on business, and the relation between price, Installation, and Reviews has a negative impact on business.\n",
        "\n",
        "##Chart - 14 Bar Plot"
      ],
      "metadata": {
        "id": "dR8cnHwWJSzk"
      }
    },
    {
      "cell_type": "code",
      "source": [
        "#installs unique values\n",
        "df1[\"Installs\"].unique()"
      ],
      "metadata": {
        "id": "a12aKdAFJmth"
      },
      "execution_count": null,
      "outputs": []
    },
    {
      "cell_type": "code",
      "source": [
        "#set in decending order\n",
        "top_installers=df1.sort_values(by='Installs', ascending=False)\n",
        "top_apps_by_instolation=top_installers.head(20)"
      ],
      "metadata": {
        "id": "6Owtnc4PFUbp"
      },
      "execution_count": null,
      "outputs": []
    },
    {
      "cell_type": "code",
      "source": [
        "#top 20 apps based on installs\n",
        "top_apps_by_instolation[[\"App\",\"Category\",\"Installs\"]]"
      ],
      "metadata": {
        "id": "vINs7nkcJyd8"
      },
      "execution_count": null,
      "outputs": []
    },
    {
      "cell_type": "markdown",
      "source": [
        "The top 20 apps were installed above 1 billion"
      ],
      "metadata": {
        "id": "U7i_JbHhJ57o"
      }
    },
    {
      "cell_type": "code",
      "source": [
        "#total apps by category based on top installs\n",
        "top_category_apps=top_apps_by_instolation.groupby(\"Category\")[\"App\"].count().reset_index(name=\"total app\")\n",
        "top_category_apps=top_category_apps.sort_values(by=\"total app\",ascending=False)\n",
        "top_category_apps"
      ],
      "metadata": {
        "id": "SJ1_twZjJ9R0"
      },
      "execution_count": null,
      "outputs": []
    },
    {
      "cell_type": "markdown",
      "source": [
        "From the category communication 6 apps installation is above one billion"
      ],
      "metadata": {
        "id": "Ta7O50MLKUeJ"
      }
    },
    {
      "cell_type": "code",
      "source": [
        "#bar graph on category in top installs\n",
        "plt.figure(figsize=(10, 6))\n",
        "sns.barplot(x='Category', y='total app', data=top_category_apps)\n",
        "plt.xticks(rotation=90)\n",
        "plt.xlabel(\"Category\",fontsize=16)\n",
        "plt.ylabel('number of apps',fontsize=16)\n",
        "plt.title('Number of apps From Each Category were 1bilion or above installations',fontsize=16)\n",
        "plt.show()"
      ],
      "metadata": {
        "id": "o0fdbO9aKZGF"
      },
      "execution_count": null,
      "outputs": []
    },
    {
      "cell_type": "markdown",
      "source": [
        "From the communication, apps were installation above one billion are-\n",
        "\n",
        "1-Whatsapp Messenger\n",
        "\n",
        "2-Gmail\n",
        "\n",
        "3-Google chrome\n",
        "\n",
        "4-Messenger\n",
        "\n",
        "5-skype\n",
        "\n",
        "6-Hangouts"
      ],
      "metadata": {
        "id": "FiSbkURfKv2K"
      }
    },
    {
      "cell_type": "code",
      "source": [
        "top_installers[[\"App\"]].tail()"
      ],
      "metadata": {
        "id": "aMZupnc2KxC8"
      },
      "execution_count": null,
      "outputs": []
    },
    {
      "cell_type": "markdown",
      "source": [
        "Least preferred or installed apps are-\n",
        "\n",
        "1-Eu Sou Rico\n",
        "\n",
        "2-cronometra-br\n",
        "\n",
        "3-AP Series Solution Pro\n",
        "\n",
        "4-EP Cook Book\n",
        "\n",
        "5-Command & Conquer: Rivals"
      ],
      "metadata": {
        "id": "FomdX6kNL3qT"
      }
    },
    {
      "cell_type": "code",
      "source": [
        "#top five apps based on reviews\n",
        "apps_Reviews=df1.sort_values(by='Reviews', ascending=False)\n",
        "apps_Reviews[[\"App\",\"Reviews\"]].head()"
      ],
      "metadata": {
        "id": "KS5TTVY6MwFW"
      },
      "execution_count": null,
      "outputs": []
    },
    {
      "cell_type": "markdown",
      "source": [
        "Top reviewed apps-\n",
        "\n",
        "1-Facebook\n",
        "\n",
        "2-WhatsApp Messenger\n",
        "\n",
        "3-Instagram\n",
        "\n",
        "4-Messenger – Text and Video Chat for Free\n",
        "\n",
        "5-Clash of Clans"
      ],
      "metadata": {
        "id": "E64wyuJ4M6DM"
      }
    },
    {
      "cell_type": "code",
      "source": [
        "#top app in game category\n",
        "df = df1[df1['Category'] == 'GAME']\n",
        "df = df.sort_values(by=['Installs'], ascending=False)\n",
        "df[[\"App\",\"Category\",\"Installs\"]].head()"
      ],
      "metadata": {
        "id": "Yai03FsGM7Eq"
      },
      "execution_count": null,
      "outputs": []
    },
    {
      "cell_type": "markdown",
      "source": [
        "Top apps from Game category-\n",
        "\n",
        "1-Subway Surfers\n",
        "\n",
        "2-Candy Crush Saga\n",
        "\n",
        "3-Temple Run 2\n",
        "\n",
        "4-Pou\n",
        "\n",
        "5-My Talking Tom"
      ],
      "metadata": {
        "id": "x8Z0kcIWNDCV"
      }
    },
    {
      "cell_type": "code",
      "source": [
        "#least preferd apps in family category\n",
        "df = df1[df1['Category'] == 'FAMILY']\n",
        "df = df.sort_values(by=['Rating'], ascending=True)\n",
        "df[[\"App\",\"Category\",\"Installs\",\"Rating\"]].head()"
      ],
      "metadata": {
        "id": "aHQPHuYhNIIn"
      },
      "execution_count": null,
      "outputs": []
    },
    {
      "cell_type": "markdown",
      "source": [
        "Least rating apps from the family category are-\n",
        "\n",
        "1-Truck Driving Test Class 3 BC\n",
        "\n",
        "2-FE Mechanical Engineering Prep\n",
        "\n",
        "3-Speech Therapy: F\n",
        "\n",
        "4-AC REMOTE UNIVERSAL-PRO\n",
        "\n",
        "5-EB Mobile"
      ],
      "metadata": {
        "id": "u9SNtDEyNO0a"
      }
    },
    {
      "cell_type": "code",
      "source": [
        "#top genres on installs\n",
        "Genres= df1.groupby(\"Genres\")[\"Installs\"].sum().reset_index()\n",
        "Genres1= Genres.sort_values(by=['Installs'], ascending=False)\n",
        "Genres1.head()"
      ],
      "metadata": {
        "id": "DHdR30ZPNTIC"
      },
      "execution_count": null,
      "outputs": []
    },
    {
      "cell_type": "markdown",
      "source": [
        "Top genres that most people like are-\n",
        "\n",
        "1-Communication\n",
        "\n",
        "2-Tools\n",
        "\n",
        "3-Productivity\n",
        "\n",
        "4-Social\n",
        "\n",
        "5-Photography"
      ],
      "metadata": {
        "id": "Rsho4WCHNYqD"
      }
    },
    {
      "cell_type": "code",
      "source": [
        "#least genres\n",
        "Genres1.tail()"
      ],
      "metadata": {
        "id": "UKUW9qt2NcDo"
      },
      "execution_count": null,
      "outputs": []
    },
    {
      "cell_type": "markdown",
      "source": [
        "Least preferd genres apps are-\n",
        "\n",
        "1-Books & Reference;Education\n",
        "\n",
        "2-Role Playing;Education\n",
        "\n",
        "3-Trivia;Education\n",
        "\n",
        "4-Board;Pretend Play\n",
        "\n",
        "5-Books & Reference;Creativity"
      ],
      "metadata": {
        "id": "pBv9zAIqN0OM"
      }
    },
    {
      "cell_type": "markdown",
      "source": [
        "##Dataset-2"
      ],
      "metadata": {
        "id": "8hyzpFNQN1n5"
      }
    },
    {
      "cell_type": "code",
      "source": [
        "#dataset two top rows\n",
        "reviewdf.head()"
      ],
      "metadata": {
        "id": "p5k8wj8nN7AV"
      },
      "execution_count": null,
      "outputs": []
    },
    {
      "cell_type": "code",
      "source": [
        "#last five rows\n",
        "reviewdf.tail()"
      ],
      "metadata": {
        "id": "GQakcYo8OZaB"
      },
      "execution_count": null,
      "outputs": []
    },
    {
      "cell_type": "code",
      "source": [
        "#shape of data\n",
        "reviewdf.shape"
      ],
      "metadata": {
        "id": "_tHfQMeBOk-b"
      },
      "execution_count": null,
      "outputs": []
    },
    {
      "cell_type": "code",
      "source": [
        "#basic info\n",
        "reviewdf.info()"
      ],
      "metadata": {
        "id": "WU-8UjcHOtwP"
      },
      "execution_count": null,
      "outputs": []
    },
    {
      "cell_type": "code",
      "source": [
        "#basic statistics\n",
        "reviewdf.describe()"
      ],
      "metadata": {
        "id": "1jQKlR_IPiJ0"
      },
      "execution_count": null,
      "outputs": []
    },
    {
      "cell_type": "markdown",
      "source": [
        "**What is a Sentiment polarity?**\n",
        "\n",
        "Sentiment polarity for an element defines the orientation of the expressed sentiment, i.e., it determines if the text expresses the positive, negative or neutral sentiment of the user about the entity in consideration.\n",
        "\n",
        "**What is a sentiment Subjectivity**\n",
        "\n",
        "Subjectivity quantifies the amount of personal opinion and factual information contained in the text. The higher subjectivity means that the text contains personal opinion rather than factual information.\n",
        "\n",
        "##Chart - 15 Histogram"
      ],
      "metadata": {
        "id": "p5oe281ZQC5Q"
      }
    },
    {
      "cell_type": "code",
      "source": [
        "#histogram based on subjectivity\n",
        "plt.figure(figsize=(10,6))\n",
        "plt.hist(reviewdf[reviewdf['Sentiment_Subjectivity'].notnull()]['Sentiment_Subjectivity'],color = \"skyblue\")\n",
        "plt.xlabel(\"Subjectivity\",fontsize=16)\n",
        "plt.title(\"Distribution of Subjectivity\",fontsize=16)\n",
        "plt.show()"
      ],
      "metadata": {
        "id": "2dVq8ldGQiuH"
      },
      "execution_count": null,
      "outputs": []
    },
    {
      "cell_type": "markdown",
      "source": [
        "**1. Why did you pick the specific chart?**\n",
        "\n",
        "Because it is used to summarize discrete or continuous data that are measured on an interval scale. It is often used to illustrate the major features of the distribution of the data in a convenient form.\n",
        "\n",
        "**2. What is/are the insight(s) found from the chart?**\n",
        "\n",
        "It can be seen that maximum number of sentiment subjectivity lies between 0.4 to 0.7. From this we can conclude that maximum number of users give reviews to the applications, according to their experience.\n",
        "\n",
        "**3. Will the gained insights help creating a positive business impact?**\n",
        "\n",
        "Are there any insights that lead to negative growth? Justify with specific reason.\n",
        "From the above histogram insight that the most people rate apps on basis of their own experience with the apps.\n",
        "\n",
        "##Chart - 16 Histogram"
      ],
      "metadata": {
        "id": "INJYxaDYQzet"
      }
    },
    {
      "cell_type": "code",
      "source": [
        "#histograme based on polarity\n",
        "plt.figure(figsize=(10,6))\n",
        "plt.hist(reviewdf[reviewdf['Sentiment_Polarity'].notnull()]['Sentiment_Polarity'],color = \"skyblue\")\n",
        "plt.xlabel(\"Polarity\",fontsize=16)\n",
        "plt.title(\"Distribution of polarity\",fontsize=16)\n",
        "plt.show()"
      ],
      "metadata": {
        "id": "k4EFEnx7RBpK"
      },
      "execution_count": null,
      "outputs": []
    },
    {
      "cell_type": "markdown",
      "source": [
        "**1. Why did you pick the specific chart?**\n",
        "\n",
        "Because it is used to summarize discrete or continuous data that are measured on an interval scale. It is often used to illustrate the major features of the distribution of the data in a convenient form.\n",
        "\n",
        "**2. What is/are the insight(s) found from the chart?**\n",
        "\n",
        "It can be seen that the maximum number of sentiment polarity lies between 0.0 to 0.50.it mins most people have positive sentiment\n",
        "\n",
        "**3. Will the gained insights help creating a positive business impact?Are there any insights that lead to negative growth? Justify with specific reason.**\n",
        "\n",
        "The maximum number of sentiment polarity lies between 0.0 to 0.50.it mins most people have positive sentiment which is good for business.\n",
        "\n",
        "##Chart - 17 Scatterplot"
      ],
      "metadata": {
        "id": "XQYOxTwVSUcs"
      }
    },
    {
      "cell_type": "code",
      "source": [
        "plt.figure(figsize=(14,7))\n",
        "sns.scatterplot(data=reviewdf,x='Sentiment_Subjectivity', y='Sentiment_Polarity',hue=\"Sentiment\")\n",
        "plt.title(\"Does sentiment_subjectivity proportional to sentiment_polarity\",fontsize=16)\n",
        "plt.show()"
      ],
      "metadata": {
        "id": "xNEUe68sSztJ"
      },
      "execution_count": null,
      "outputs": []
    },
    {
      "cell_type": "markdown",
      "source": [
        "**1. Why did you pick the specific chart?**\n",
        "\n",
        "Because Scatter plots are used to plot data points on a horizontal and a vertical axis in an attempt to show how much one variable is affected by another.\n",
        "\n",
        "**2. What is/are the insight(s) found from the chart?**\n",
        "\n",
        "From the above scatter plot it can be concluded that sentiment subjectivity is not always proportional to sentiment polarity but in maximum number of case, shows a proportional behavior, when variance is too high or low\n",
        "\n",
        "**3. Will the gained insights help creating a positive business impact?Are there any insights that lead to negative growth? Justify with specific reason.**\n",
        "\n",
        "sentiment subjectivity is not always proportional to sentiment polarity but in maximum number of case, shows a proportional behavior, when variance is too high or low\n",
        "\n",
        "##Chart - 18 Pie Chart"
      ],
      "metadata": {
        "id": "pj3cN4PZTC_r"
      }
    },
    {
      "cell_type": "code",
      "source": [
        "#sentiment percentage\n",
        "plt.figure(figsize=(8,6))\n",
        "plt.title(\"sentiment percentege\",fontsize = 16)\n",
        "plt.pie(reviewdf.Sentiment.value_counts(), labels=reviewdf.Sentiment.value_counts().index,autopct='%1.1f%%',startangle=90,explode=(0,0.1,0))\n",
        "plt.show()"
      ],
      "metadata": {
        "id": "6QMAZ164T4vC"
      },
      "execution_count": null,
      "outputs": []
    },
    {
      "cell_type": "markdown",
      "source": [
        "**1. Why did you pick the specific chart?**\n",
        "\n",
        "A pie chart helps organize and show data as a percentage of a whole.\n",
        "\n",
        "**2. What is/are the insight(s) found from the chart?**\n",
        "\n",
        "It can be seen from the above plot that the number of positive reviews are way higher than negative and neutral ones.\n",
        "\n",
        "**3.Will the gained insights help creating a positive business impact?\n",
        "Are there any insights that lead to negative growth? Justify with specific reason**\n",
        "\n",
        "From the above plot that the number of positive reviews(64%) are way higher than negative(22%) and neutral ones.\n",
        "\n",
        "**5. Solution to Business Objective\n",
        "What do you suggest the client to achieve Business Objective ?**\n",
        "\n",
        "There are some useful insights for the client to achieve their business objective\n",
        "\n",
        "some insights like free apps have more installations and ratings in the android market\n",
        "\n",
        "categories like GAME, SOCIAL, COMMUNICATION, and TOOL of having the highest amount of installs, ratings, and reviews are reflecting the current trend of Android users.\n",
        "\n",
        "The median size of all apps in the play store is 12 MB.\n",
        "\n",
        "**conclusions-**\n",
        "\n",
        "The Google Play Store Apps report provides some useful insights regarding the trending of the apps in the play store. As per the graphs visualizations shown above, most of the trending apps (in terms of users' installs) are from the categories like GAME, COMMUNICATION, and TOOL even though the amount of available apps from these categories are twice as much lesser than the category FAMILY. The trending of these apps are most probably due to their nature of being able to entertain or assist the user. Besides, it also shows a good trend where we can see that developers from these categories are focusing on the quality instead of the quantity of the apps.\n",
        "\n",
        "Other than that, the charts shown above actually implies that most of the apps having good ratings of above 4.0 are mostly confirmed to have high amount of reviews and user installs. There are some spikes in term of size and price but it shouldn't reflect that apps with high rating are mostly big in size and pricy as by looking at the graphs they are most probably are due to some minority. Futhermore, most of the apps that are having high amount of reviews are from the categories of SOCIAL, COMMUNICATION and GAME like Facebook, WhatsApp Messenger, Instagram, Messenger – Text and Video Chat for Free, Clash of Clans etc.\n",
        "\n",
        "Eventhough apps from the categories like GAME, SOCIAL, COMMUNICATION and TOOL of having the highest amount of installs, rating and reviews are reflecting the current trend of Android users, they are not even appearing as category in the top 5 most expensive apps in the store (which are mostly from FINANCE and LIFESTYLE). As a conclsuion, we learnt that the current trend in the Android market are mostly from these categories which either assisting, communicating or entertaining apps.\n",
        "\n",
        "-Percentage of free apps = ~92%\n",
        "\n",
        "-Percentage of apps with no age restrictions = ~82%\n",
        "\n",
        "-Most competitive category: Family\n",
        "\n",
        "-Category with the highest number of installs: Game\n",
        "\n",
        "-Category with the highest average app installs: Communication\n",
        "\n",
        "-Percentage of apps that are top rated = ~80%\n",
        "\n",
        "-There are 20 free apps that have been installed over a billion times\n",
        "\n",
        "-Minecraft is the only app in the paid category with over 10M installs. This app has also produced the most revenue only from the installation fee.\n",
        "\n",
        "-Category in which the paid apps have the highest average installation fee: Finance\n",
        "\n",
        "-Most popular app in the Play Store based on the number of reviews: Facebook\n",
        "\n",
        "-The median size of all apps in the play store is 12 MB."
      ],
      "metadata": {
        "id": "aKPBDAazgJms"
      }
    },
    {
      "cell_type": "markdown",
      "source": [
        "*************THE END **********"
      ],
      "metadata": {
        "id": "LMJQvzT89Cea"
      }
    }
  ]
}